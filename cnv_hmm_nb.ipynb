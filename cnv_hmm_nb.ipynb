{
 "cells": [
  {
   "cell_type": "markdown",
   "metadata": {},
   "source": [
    "##"
   ]
  },
  {
   "cell_type": "code",
   "execution_count": 1,
   "metadata": {},
   "outputs": [
    {
     "name": "stdout",
     "output_type": "stream",
     "text": [
      "                                               \r"
     ]
    }
   ],
   "source": [
    "# !pip install cptac\n",
    "import numpy as np\n",
    "import pandas as pd\n",
    "import cptac as cptac\n",
    "import biograder\n",
    "biograder.download(\"bio462_hw4\")\n",
    "hw = biograder.bio462_hw4(student_id = 'CG_Final_Project')"
   ]
  },
  {
   "attachments": {},
   "cell_type": "markdown",
   "metadata": {},
   "source": [
    "### Part 1: Data Loading and Processing"
   ]
  },
  {
   "cell_type": "markdown",
   "metadata": {},
   "source": [
    "##"
   ]
  },
  {
   "cell_type": "code",
   "execution_count": 2,
   "metadata": {},
   "outputs": [
    {
     "name": "stdout",
     "output_type": "stream",
     "text": [
      "                                         \r"
     ]
    }
   ],
   "source": [
    "# download BRCA data\n",
    "cptac.download('brca')\n",
    "brca = cptac.Brca()\n",
    "brca_CNV = brca.get_CNV()"
   ]
  },
  {
   "cell_type": "code",
   "execution_count": 35,
   "metadata": {},
   "outputs": [],
   "source": [
    "brca_CNV_t = brca_CNV.transpose()\n",
    "\n",
    "# get locations data\n",
    "locations = hw.getData(name='gene_locations')\n",
    "locations = locations.copy()\n",
    "locations = locations.set_index(\"Database_ID\")\n",
    "\n",
    "# join locations and BRCA data\n",
    "merged_df = locations.merge(brca_CNV_t, left_on='Database_ID', right_on='Database_ID')\n",
    "merged_nd = merged_df[~merged_df.index.duplicated(keep='first')]\n",
    "\n",
    "# select for chromosme 17 and order by starting position\n",
    "brca_cnv_chr = merged_nd.loc[merged_nd['chromosome'] == '17']\n",
    "brca_cnv_chr = brca_cnv_chr.sort_values(by=['start_bp'])\n",
    "\n",
    "# re-organize (transpose BRCA data)\n",
    "brca_cnv_chr.drop(brca_cnv_chr.columns[[0,1,2]], axis=1, inplace=True)\n",
    "brca_cnv_chr_t = brca_cnv_chr.transpose()"
   ]
  },
  {
   "cell_type": "code",
   "execution_count": 36,
   "metadata": {},
   "outputs": [
    {
     "data": {
      "text/plain": [
       "(122, 1333)"
      ]
     },
     "execution_count": 36,
     "metadata": {},
     "output_type": "execute_result"
    }
   ],
   "source": [
    "# quick preview of brca data\n",
    "brca_cnv_chr_t.shape"
   ]
  },
  {
   "cell_type": "code",
   "execution_count": 10,
   "metadata": {},
   "outputs": [],
   "source": [
    "# # grab mini version of data frame\n",
    "# brca_mini_df = brca_cnv_chr.head(100)\n",
    "# # get first patient CNV data across all genes\n",
    "# brca_p1 = brca_mini_df.iloc[:,1]\n",
    "# brca_p1"
   ]
  },
  {
   "cell_type": "code",
   "execution_count": 37,
   "metadata": {},
   "outputs": [
    {
     "data": {
      "text/plain": [
       "Database_ID\n",
       "ENSG00000262359.1    -0.222\n",
       "ENSG00000181031.11   -0.222\n",
       "ENSG00000187624.7    -0.222\n",
       "ENSG00000183688.4    -0.222\n",
       "ENSG00000141252.15   -0.222\n",
       "                      ...  \n",
       "ENSG00000167363.9     0.222\n",
       "ENSG00000141556.16    0.222\n",
       "ENSG00000141579.6     0.222\n",
       "ENSG00000175711.4     0.222\n",
       "ENSG00000176845.8     0.222\n",
       "Name: CPT001846, Length: 1333, dtype: float64"
      ]
     },
     "execution_count": 37,
     "metadata": {},
     "output_type": "execute_result"
    }
   ],
   "source": [
    "# get first patient CNV data across all genes\n",
    "brca_p1 = brca_cnv_chr_t.iloc[1,:]\n",
    "brca_p1"
   ]
  },
  {
   "cell_type": "code",
   "execution_count": 40,
   "metadata": {},
   "outputs": [],
   "source": [
    "# get number of columns\n",
    "num_rows = brca_cnv_chr_t.shape[0]\n",
    "num_cols = brca_cnv_chr_t.shape[1]"
   ]
  },
  {
   "cell_type": "code",
   "execution_count": 42,
   "metadata": {},
   "outputs": [],
   "source": [
    "# separate data frame into its columns\n",
    "brca_by_patients = np.zeros((num_rows, num_cols))\n",
    "for row in range(num_rows):\n",
    "    brca_by_patients[row] = brca_cnv_chr_t.iloc[row,:]"
   ]
  },
  {
   "cell_type": "code",
   "execution_count": 43,
   "metadata": {},
   "outputs": [
    {
     "data": {
      "text/plain": [
       "array([-0.445, -0.445, -0.445, ...,  0.004,  0.004,  0.004])"
      ]
     },
     "execution_count": 43,
     "metadata": {},
     "output_type": "execute_result"
    }
   ],
   "source": [
    "brca_by_patients[0]"
   ]
  },
  {
   "attachments": {},
   "cell_type": "markdown",
   "metadata": {},
   "source": [
    "### Part 2: Hidden Markov Models (HMMs)"
   ]
  },
  {
   "attachments": {},
   "cell_type": "markdown",
   "metadata": {},
   "source": [
    "Initializations\n",
    "* initial state probabilities: [0.25, 0.25, 0.25, 0.25]\n",
    "* transition probabilities: [4x4]\n",
    "* emission probabiltiies: [4 x distribution of numbers]"
   ]
  },
  {
   "cell_type": "code",
   "execution_count": 46,
   "metadata": {},
   "outputs": [
    {
     "name": "stdout",
     "output_type": "stream",
     "text": [
      "[0.25 0.25 0.25 0.25]\n"
     ]
    }
   ],
   "source": [
    "# initialize initial state probabilities\n",
    "num_subtypes = 4\n",
    "initial_probs = np.ones(num_subtypes)\n",
    "for i in range(len(initial_probs)):\n",
    "    initial_probs[i] /= num_subtypes\n",
    "print(initial_probs)"
   ]
  },
  {
   "cell_type": "code",
   "execution_count": 49,
   "metadata": {},
   "outputs": [
    {
     "name": "stdout",
     "output_type": "stream",
     "text": [
      "[[0.25 0.25 0.25 0.25]\n",
      " [0.25 0.25 0.25 0.25]\n",
      " [0.25 0.25 0.25 0.25]\n",
      " [0.25 0.25 0.25 0.25]]\n"
     ]
    }
   ],
   "source": [
    "# initialize transition probabilities matrix\n",
    "trans_mtx = np.ones((num_subtypes, num_subtypes))\n",
    "for i in range(num_subtypes):\n",
    "    for j in range(num_subtypes):\n",
    "        trans_mtx[i][j] /= num_subtypes\n",
    "print(trans_mtx)"
   ]
  },
  {
   "cell_type": "code",
   "execution_count": null,
   "metadata": {},
   "outputs": [],
   "source": [
    "# initialize emission probabilties matrix\n",
    "# ALL YOURS, LORD THOMAS!!!!!! :)"
   ]
  },
  {
   "cell_type": "code",
   "execution_count": null,
   "metadata": {},
   "outputs": [],
   "source": []
  },
  {
   "cell_type": "code",
   "execution_count": null,
   "metadata": {},
   "outputs": [],
   "source": []
  },
  {
   "cell_type": "code",
   "execution_count": null,
   "metadata": {},
   "outputs": [],
   "source": []
  },
  {
   "cell_type": "code",
   "execution_count": null,
   "metadata": {},
   "outputs": [],
   "source": []
  },
  {
   "cell_type": "code",
   "execution_count": null,
   "metadata": {},
   "outputs": [],
   "source": []
  },
  {
   "cell_type": "code",
   "execution_count": null,
   "metadata": {},
   "outputs": [],
   "source": []
  }
 ],
 "metadata": {
  "kernelspec": {
   "display_name": "Python 3",
   "language": "python",
   "name": "python3"
  },
  "language_info": {
   "codemirror_mode": {
    "name": "ipython",
    "version": 3
   },
   "file_extension": ".py",
   "mimetype": "text/x-python",
   "name": "python",
   "nbconvert_exporter": "python",
   "pygments_lexer": "ipython3",
   "version": "3.10.4"
  },
  "orig_nbformat": 4
 },
 "nbformat": 4,
 "nbformat_minor": 2
}
